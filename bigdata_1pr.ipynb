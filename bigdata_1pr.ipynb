{
 "cells": [
  {
   "metadata": {
    "ExecuteTime": {
     "end_time": "2024-09-06T10:41:56.864542Z",
     "start_time": "2024-09-06T10:41:56.844509Z"
    }
   },
   "cell_type": "code",
   "source": [
    "# 2\n",
    "import math\n",
    "\n",
    "def calculate_area(shape, *params):\n",
    "    if shape == \"треугольник\":\n",
    "        a, h = params\n",
    "        area = 0.5 * a * h\n",
    "    elif shape == \"прямоугольник\":\n",
    "        a, b = params\n",
    "        area = a * b\n",
    "    elif shape == \"круг\":\n",
    "        r, = params\n",
    "        area = math.pi * r ** 2\n",
    "    else:\n",
    "        return \"Неподдерживаемая фигура\"\n",
    "    return {shape: area}\n",
    "\n",
    "print(calculate_area(\"треугольник\", 5, 10))  # {'треугольник': 25.0}\n",
    "print(calculate_area(\"прямоугольник\", 4, 8))  # {'прямоугольник': 32}\n",
    "print(calculate_area(\"круг\", 3))  # {'круг': 28.27}"
   ],
   "id": "fbc121e30a2defb3",
   "outputs": [
    {
     "name": "stdout",
     "output_type": "stream",
     "text": [
      "{'треугольник': 25.0}\n",
      "{'прямоугольник': 32}\n",
      "{'круг': 28.274333882308138}\n"
     ]
    }
   ],
   "execution_count": 14
  },
  {
   "metadata": {
    "ExecuteTime": {
     "end_time": "2024-09-06T10:41:57.152227Z",
     "start_time": "2024-09-06T10:41:57.136179Z"
    }
   },
   "cell_type": "code",
   "source": [
    "# 3 \n",
    "def apply_operation(a, b, operation):\n",
    "    if operation == \"+\":\n",
    "        return a + b\n",
    "    elif operation == \"-\":\n",
    "        return a - b\n",
    "    elif operation == \"/\":\n",
    "        return a / b\n",
    "    elif operation == \"//\":\n",
    "        return a // b\n",
    "    elif operation == \"abs\":\n",
    "        return abs(a), abs(b)\n",
    "    elif operation == \"pow\":\n",
    "        return pow(a, b)\n",
    "    elif operation == \"**\":\n",
    "        return a ** b\n",
    "    else:\n",
    "        return \"Неподдерживаемая операция\"\n",
    "\n",
    "print(apply_operation(10, 3, \"+\"))   # 13\n",
    "print(apply_operation(10, 3, \"-\"))   # 7\n",
    "print(apply_operation(10, -3, \"abs\"))  # (10, 3)\n",
    "print(apply_operation(2, 3, \"**\"))  # 8"
   ],
   "id": "4be5a165b91ac8b8",
   "outputs": [
    {
     "name": "stdout",
     "output_type": "stream",
     "text": [
      "13\n",
      "7\n",
      "(10, 3)\n",
      "8\n"
     ]
    }
   ],
   "execution_count": 15
  },
  {
   "metadata": {
    "ExecuteTime": {
     "end_time": "2024-09-06T10:42:03.792238Z",
     "start_time": "2024-09-06T10:41:57.380695Z"
    }
   },
   "cell_type": "code",
   "source": [
    "# 4\n",
    "def sum_of_squares():\n",
    "    numbers = []\n",
    "    total = 0\n",
    "    \n",
    "    while True:\n",
    "        num = int(input(\"Введите число: \"))\n",
    "        numbers.append(num)\n",
    "        total += num\n",
    "        \n",
    "        if total == 0:\n",
    "            break\n",
    "    \n",
    "    square_sum = sum(x**2 for x in numbers)\n",
    "    print(\"Сумма квадратов:\", square_sum)\n",
    "\n",
    "sum_of_squares()\n",
    "\n",
    "# 1 2 3 -1 -5"
   ],
   "id": "1f614c305d6f1b6a",
   "outputs": [
    {
     "name": "stdout",
     "output_type": "stream",
     "text": [
      "Сумма квадратов: 2\n"
     ]
    }
   ],
   "execution_count": 16
  },
  {
   "metadata": {
    "ExecuteTime": {
     "end_time": "2024-09-06T10:42:04.188383Z",
     "start_time": "2024-09-06T10:42:04.174157Z"
    }
   },
   "cell_type": "code",
   "source": [
    "# 5\n",
    "def print_sequence(N):\n",
    "    sequence = []\n",
    "    for i in range(1, N + 1):\n",
    "        sequence.extend([i] * i)\n",
    "    \n",
    "    print(*sequence[:N])\n",
    "\n",
    "print_sequence(7)  # 1 2 2 3 3 3 4"
   ],
   "id": "beb3f639a7a0ff17",
   "outputs": [
    {
     "name": "stdout",
     "output_type": "stream",
     "text": [
      "1 2 2 3 3 3 4\n"
     ]
    }
   ],
   "execution_count": 17
  },
  {
   "metadata": {
    "ExecuteTime": {
     "end_time": "2024-09-06T10:42:04.576270Z",
     "start_time": "2024-09-06T10:42:04.555703Z"
    }
   },
   "cell_type": "code",
   "source": [
    "#6\n",
    "A = [1, 2, 3, 4, 2, 1, 3, 4, 5, 6, 5, 4, 3, 2]\n",
    "B = ['a', 'b', 'c', 'c', 'c', 'b', 'a', 'c', 'a', 'a', 'b', 'c', 'b', 'a']\n",
    "\n",
    "def create_dict(A, B):\n",
    "    result = {}\n",
    "    for i in range(len(A)):\n",
    "        if B[i] in result:\n",
    "            result[B[i]] += A[i]\n",
    "        else:\n",
    "            result[B[i]] = A[i]\n",
    "    return result\n",
    "\n",
    "# Пример вызова:\n",
    "result_dict = create_dict(A, B)\n",
    "print(result_dict)  # {'a': 10, 'b': 15, 'c': 26}"
   ],
   "id": "1cd1136e8d6f9423",
   "outputs": [
    {
     "name": "stdout",
     "output_type": "stream",
     "text": [
      "{'a': 17, 'b': 11, 'c': 17}\n"
     ]
    }
   ],
   "execution_count": 18
  },
  {
   "metadata": {
    "ExecuteTime": {
     "end_time": "2024-09-06T10:42:04.982457Z",
     "start_time": "2024-09-06T10:42:04.909581Z"
    }
   },
   "cell_type": "code",
   "source": [
    "import pandas as pd\n",
    "from sklearn.datasets import fetch_california_housing\n",
    "\n",
    "# Загрузка данных\n",
    "housing_data = fetch_california_housing(as_frame=True)\n",
    "df = housing_data.frame\n",
    "\n",
    "# 8. Использовать метод info()\n",
    "df.info()"
   ],
   "id": "692eeabb6ee64da6",
   "outputs": [
    {
     "name": "stdout",
     "output_type": "stream",
     "text": [
      "<class 'pandas.core.frame.DataFrame'>\n",
      "RangeIndex: 20640 entries, 0 to 20639\n",
      "Data columns (total 9 columns):\n",
      " #   Column       Non-Null Count  Dtype  \n",
      "---  ------       --------------  -----  \n",
      " 0   MedInc       20640 non-null  float64\n",
      " 1   HouseAge     20640 non-null  float64\n",
      " 2   AveRooms     20640 non-null  float64\n",
      " 3   AveBedrms    20640 non-null  float64\n",
      " 4   Population   20640 non-null  float64\n",
      " 5   AveOccup     20640 non-null  float64\n",
      " 6   Latitude     20640 non-null  float64\n",
      " 7   Longitude    20640 non-null  float64\n",
      " 8   MedHouseVal  20640 non-null  float64\n",
      "dtypes: float64(9)\n",
      "memory usage: 1.4 MB\n"
     ]
    }
   ],
   "execution_count": 19
  },
  {
   "metadata": {
    "ExecuteTime": {
     "end_time": "2024-09-06T10:42:05.146486Z",
     "start_time": "2024-09-06T10:42:05.130495Z"
    }
   },
   "cell_type": "code",
   "source": [
    "# 9. Проверка на пропущенные значения\n",
    "missing_values = df.isna().sum()\n",
    "print(\"Пропущенные значения в данных:\\n\", missing_values)"
   ],
   "id": "23592e360e101efb",
   "outputs": [
    {
     "name": "stdout",
     "output_type": "stream",
     "text": [
      "Пропущенные значения в данных:\n",
      " MedInc         0\n",
      "HouseAge       0\n",
      "AveRooms       0\n",
      "AveBedrms      0\n",
      "Population     0\n",
      "AveOccup       0\n",
      "Latitude       0\n",
      "Longitude      0\n",
      "MedHouseVal    0\n",
      "dtype: int64\n"
     ]
    }
   ],
   "execution_count": 20
  },
  {
   "metadata": {
    "ExecuteTime": {
     "end_time": "2024-09-06T10:42:05.519943Z",
     "start_time": "2024-09-06T10:42:05.474332Z"
    }
   },
   "cell_type": "code",
   "source": [
    "# 10. Записи, где средний возраст домов > 50 и население > 2500\n",
    "filtered_data = df.loc[(df['HouseAge'] > 50) & (df['Population'] > 2500)]\n",
    "print(\"Записи, где средний возраст домов более 50 лет и население более 2500:\\n\", filtered_data)"
   ],
   "id": "e990e1661293026f",
   "outputs": [
    {
     "name": "stdout",
     "output_type": "stream",
     "text": [
      "Записи, где средний возраст домов более 50 лет и население более 2500:\n",
      "        MedInc  HouseAge  AveRooms  AveBedrms  Population    AveOccup  \\\n",
      "460    1.4012      52.0  3.105714   1.060000      3337.0    9.534286   \n",
      "4131   3.5349      52.0  4.646119   1.047945      2589.0    5.910959   \n",
      "4440   2.6806      52.0  4.806283   1.057592      3062.0    4.007853   \n",
      "5986   1.8750      52.0  4.500000   1.206349      2688.0   21.333333   \n",
      "7369   3.1901      52.0  4.730942   1.017937      3731.0    4.182735   \n",
      "8227   2.3305      52.0  3.488860   1.170380      3018.0    3.955439   \n",
      "13034  6.1359      52.0  8.275862   1.517241      6675.0  230.172414   \n",
      "15634  1.8295      52.0  2.628169   1.053521      2957.0    4.164789   \n",
      "15652  0.9000      52.0  2.237474   1.053535      3260.0    2.237474   \n",
      "15657  2.5166      52.0  2.839075   1.184049      3436.0    1.621520   \n",
      "15659  1.7240      52.0  2.278566   1.082348      4518.0    1.780142   \n",
      "15795  2.5755      52.0  3.402576   1.058776      2619.0    2.108696   \n",
      "15868  2.8135      52.0  4.584329   1.041169      2987.0    3.966799   \n",
      "\n",
      "       Latitude  Longitude  MedHouseVal  \n",
      "460       37.87    -122.26      1.75000  \n",
      "4131      34.13    -118.20      1.93600  \n",
      "4440      34.08    -118.21      1.53000  \n",
      "5986      34.10    -117.71      2.12500  \n",
      "7369      33.97    -118.21      1.67600  \n",
      "8227      33.78    -118.20      1.62500  \n",
      "13034     38.69    -121.15      2.25000  \n",
      "15634     37.80    -122.41      2.43800  \n",
      "15652     37.80    -122.41      5.00001  \n",
      "15657     37.79    -122.41      2.75000  \n",
      "15659     37.79    -122.41      2.25000  \n",
      "15795     37.77    -122.42      3.25000  \n",
      "15868     37.76    -122.41      2.60300  \n"
     ]
    }
   ],
   "execution_count": 21
  },
  {
   "metadata": {
    "ExecuteTime": {
     "end_time": "2024-09-06T10:42:05.852217Z",
     "start_time": "2024-09-06T10:42:05.840951Z"
    }
   },
   "cell_type": "code",
   "source": [
    "# 11. Максимальное и минимальное значения медианной стоимости дома\n",
    "max_value = df['MedHouseVal'].max()\n",
    "min_value = df['MedHouseVal'].min()\n",
    "print(f\"Максимальное значение медианной стоимости дома: {max_value}\")\n",
    "print(f\"Минимальное значение медианной стоимости дома: {min_value}\")"
   ],
   "id": "e295f942844d3cd2",
   "outputs": [
    {
     "name": "stdout",
     "output_type": "stream",
     "text": [
      "Максимальное значение медианной стоимости дома: 5.00001\n",
      "Минимальное значение медианной стоимости дома: 0.14999\n"
     ]
    }
   ],
   "execution_count": 22
  },
  {
   "metadata": {
    "ExecuteTime": {
     "end_time": "2024-09-06T10:42:06.108559Z",
     "start_time": "2024-09-06T10:42:06.091007Z"
    }
   },
   "cell_type": "code",
   "source": [
    "# 12. Используя метод apply(), вывести название признака и его среднее значение\n",
    "mean_values = df.apply(lambda col: col.mean())\n",
    "for feature, mean_value in mean_values.items():\n",
    "    print(f\"Среднее значение {feature}: {mean_value}\")"
   ],
   "id": "179561b99b57a1ea",
   "outputs": [
    {
     "name": "stdout",
     "output_type": "stream",
     "text": [
      "Среднее значение MedInc: 3.8706710029069766\n",
      "Среднее значение HouseAge: 28.639486434108527\n",
      "Среднее значение AveRooms: 5.428999742190376\n",
      "Среднее значение AveBedrms: 1.096675149606208\n",
      "Среднее значение Population: 1425.4767441860465\n",
      "Среднее значение AveOccup: 3.0706551594363742\n",
      "Среднее значение Latitude: 35.63186143410853\n",
      "Среднее значение Longitude: -119.56970445736432\n",
      "Среднее значение MedHouseVal: 2.068558169089147\n"
     ]
    }
   ],
   "execution_count": 23
  },
  {
   "metadata": {
    "ExecuteTime": {
     "end_time": "2024-09-06T10:44:43.573466Z",
     "start_time": "2024-09-06T10:44:43.558760Z"
    }
   },
   "cell_type": "code",
   "source": [
    "# 1*\n",
    "morze = {\n",
    "    'a': '.-', 'b': '-...', 'c': '-.-.', 'd': '-..', 'e': '.', 'f': '..-.', 'g': '--.', 'h': '....',\n",
    "    'i': '..', 'j': '.---', 'k': '-.-', 'l': '.-..', 'm': '--', 'n': '-.', 'o': '---', 'p': '.--.',\n",
    "    'q': '--.-', 'r': '.-.', 's': '...', 't': '-', 'u': '..-', 'v': '...-', 'w': '.--', 'x': '-..-',\n",
    "    'y': '-.--', 'z': '--..'\n",
    "}\n",
    "\n",
    "def encode_to_morze(text):\n",
    "    words = text.lower().split() \n",
    "    encoded_words = []\n",
    "    \n",
    "    for word in words:\n",
    "        encoded_word = ' '.join(morze[char] for char in word if char in morze)\n",
    "        encoded_words.append(encoded_word)\n",
    "    \n",
    "    return '\\n'.join(encoded_words)\n",
    "\n",
    "# Пример использования:\n",
    "text = \"Ignition sequence start\"\n",
    "encoded_text = encode_to_morze(text)\n",
    "print(encoded_text)\n"
   ],
   "id": "80e7491a30f30685",
   "outputs": [
    {
     "name": "stdout",
     "output_type": "stream",
     "text": [
      ".. --. -. .. - .. --- -.\n",
      "... . --.- ..- . -. -.-. .\n",
      "... - .- .-. -\n"
     ]
    }
   ],
   "execution_count": 24
  },
  {
   "metadata": {
    "ExecuteTime": {
     "end_time": "2024-09-06T10:46:53.310845Z",
     "start_time": "2024-09-06T10:46:53.294098Z"
    }
   },
   "cell_type": "code",
   "source": [
    "# 2*\n",
    "def email_registration_system(n, requests):\n",
    "    database = {}  \n",
    "    result = [] \n",
    "\n",
    "    for name in requests:\n",
    "        if name not in database:\n",
    "            database[name] = 0  # Добавляем новое имя в базу с индексом 0\n",
    "            result.append(\"OK\")\n",
    "        else:\n",
    "            database[name] += 1  # Увеличиваем счетчик для данного имени\n",
    "            new_name = f\"{name}{database[name]}\"\n",
    "            while new_name in database:  # Проверяем, что новое имя уникально\n",
    "                database[name] += 1\n",
    "                new_name = f\"{name}{database[name]}\"\n",
    "            database[new_name] = 0  # Добавляем новое имя в базу\n",
    "            result.append(new_name)\n",
    "\n",
    "    return result\n",
    "\n",
    "# Пример использования:\n",
    "n = 10\n",
    "requests = [\n",
    "    \"fpqhfouqdldravpjttarh\", \"fpqhfouqdldravpjttarh\", \"fpqhfouqdldravpjttarh\",\n",
    "    \"fpqhfouqdldravpjttarh\", \"fpqhfouqdldravpjttarh\", \"fpqhfouqdldravpjttarh\",\n",
    "    \"jmvlplnrmba\", \"fpqhfouqdldravpjttarh\", \"jmvlplnrmba\", \"fpqhfouqdldravpjttarh\"\n",
    "]\n",
    "\n",
    "result = email_registration_system(n, requests)\n",
    "print(\"\\n\".join(result))\n"
   ],
   "id": "596fd3820018716",
   "outputs": [
    {
     "name": "stdout",
     "output_type": "stream",
     "text": [
      "OK\n",
      "fpqhfouqdldravpjttarh1\n",
      "fpqhfouqdldravpjttarh2\n",
      "fpqhfouqdldravpjttarh3\n",
      "fpqhfouqdldravpjttarh4\n",
      "fpqhfouqdldravpjttarh5\n",
      "OK\n",
      "fpqhfouqdldravpjttarh6\n",
      "jmvlplnrmba1\n",
      "fpqhfouqdldravpjttarh7\n"
     ]
    }
   ],
   "execution_count": 25
  },
  {
   "metadata": {
    "ExecuteTime": {
     "end_time": "2024-09-06T10:48:58.037707Z",
     "start_time": "2024-09-06T10:48:58.020963Z"
    }
   },
   "cell_type": "code",
   "source": [
    "# 3*\n",
    "def file_access_system(n, files_info, m, requests):\n",
    "    permissions = {}  \n",
    "\n",
    "    # Заполнение словаря с разрешениями\n",
    "    for file_info in files_info:\n",
    "        file_data = file_info.split()\n",
    "        file_name = file_data[0]\n",
    "        allowed_ops = set(file_data[1:])  # Множество разрешенных операций (w, r, x)\n",
    "        permissions[file_name] = allowed_ops\n",
    "\n",
    "    # Обработка запросов\n",
    "    results = []\n",
    "    for request in requests:\n",
    "        operation, file_name = request.split()\n",
    "        # Преобразование операций в символы для удобства проверки\n",
    "        if operation == \"write\":\n",
    "            op_symbol = 'w'\n",
    "        elif operation == \"read\":\n",
    "            op_symbol = 'r'\n",
    "        elif operation == \"execute\":\n",
    "            op_symbol = 'x'\n",
    "        else:\n",
    "            results.append(\"Access denied\")\n",
    "            continue\n",
    "        \n",
    "        # Проверка, разрешена ли операция для файла\n",
    "        if file_name in permissions and op_symbol in permissions[file_name]:\n",
    "            results.append(\"OK\")\n",
    "        else:\n",
    "            results.append(\"Access denied\")\n",
    "    \n",
    "    return results\n",
    "\n",
    "# Пример использования:\n",
    "n = 3\n",
    "files_info = [\n",
    "    \"python.exe x\",\n",
    "    \"book.txt r w\",\n",
    "    \"notebook.exe r w x\"\n",
    "]\n",
    "m = 5\n",
    "requests = [\n",
    "    \"read python.exe\",\n",
    "    \"read book.txt\",\n",
    "    \"write notebook.exe\",\n",
    "    \"execute notebook.exe\",\n",
    "    \"write book.txt\"\n",
    "]\n",
    "\n",
    "# Вызов функции\n",
    "results = file_access_system(n, files_info, m, requests)\n",
    "print(\"\\n\".join(results))\n"
   ],
   "id": "6cfd2ae4462ea14",
   "outputs": [
    {
     "name": "stdout",
     "output_type": "stream",
     "text": [
      "Access denied\n",
      "OK\n",
      "OK\n",
      "OK\n",
      "OK\n"
     ]
    }
   ],
   "execution_count": 26
  }
 ],
 "metadata": {
  "kernelspec": {
   "display_name": "Python 3",
   "language": "python",
   "name": "python3"
  },
  "language_info": {
   "codemirror_mode": {
    "name": "ipython",
    "version": 2
   },
   "file_extension": ".py",
   "mimetype": "text/x-python",
   "name": "python",
   "nbconvert_exporter": "python",
   "pygments_lexer": "ipython2",
   "version": "2.7.6"
  }
 },
 "nbformat": 4,
 "nbformat_minor": 5
}
