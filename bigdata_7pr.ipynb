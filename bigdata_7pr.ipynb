{
 "cells": [
  {
   "cell_type": "code",
   "id": "initial_id",
   "metadata": {
    "collapsed": true,
    "ExecuteTime": {
     "end_time": "2024-11-19T06:36:14.449028Z",
     "start_time": "2024-11-19T06:36:14.445865Z"
    }
   },
   "source": [
    "# Импорт необходимых библиотек\n",
    "import pandas as pd\n",
    "import numpy as np\n",
    "from sklearn.model_selection import train_test_split\n",
    "from sklearn.ensemble import RandomForestRegressor\n",
    "from xgboost import XGBRegressor\n",
    "from sklearn.metrics import mean_squared_error, r2_score\n",
    "import time"
   ],
   "outputs": [],
   "execution_count": 27
  },
  {
   "metadata": {
    "ExecuteTime": {
     "end_time": "2024-11-19T06:36:14.473479Z",
     "start_time": "2024-11-19T06:36:14.452035Z"
    }
   },
   "cell_type": "code",
   "source": [
    "# Загрузка данных\n",
    "data = pd.read_csv('data/insurance.csv')\n",
    "\n",
    "# Предобработка данных\n",
    "# Пример: Кодируем категориальные данные и заполняем пропущенные значения\n",
    "data = pd.get_dummies(data, drop_first=True)\n",
    "data = data.fillna(data.mean())\n",
    "\n",
    "# Разделение данных на признаки и целевую переменную\n",
    "X = data.drop('charges', axis=1)  # Замените 'price' на вашу целевую переменную\n",
    "y = data['charges']\n",
    "\n",
    "# Разделение на обучающую и тестовую выборки\n",
    "X_train, X_test, y_train, y_test = train_test_split(X, y, test_size=0.2, random_state=42)\n",
    "print(\"Shillo S.O. IKBO-25-21\")"
   ],
   "id": "69228e45e72724de",
   "outputs": [
    {
     "name": "stdout",
     "output_type": "stream",
     "text": [
      "Shillo S.O. IKBO-25-21\n"
     ]
    }
   ],
   "execution_count": 28
  },
  {
   "metadata": {
    "ExecuteTime": {
     "end_time": "2024-11-19T06:36:14.771051Z",
     "start_time": "2024-11-19T06:36:14.474484Z"
    }
   },
   "cell_type": "code",
   "source": [
    "# Реализация баггинга (Random Forest)\n",
    "print(\"Training Random Forest...\")\n",
    "start_time = time.time()\n",
    "rf_model = RandomForestRegressor(n_estimators=100, random_state=42)\n",
    "rf_model.fit(X_train, y_train)\n",
    "rf_time = time.time() - start_time\n",
    "\n",
    "# Предсказания и оценка модели\n",
    "rf_predictions = rf_model.predict(X_test)\n",
    "rf_mse = mean_squared_error(y_test, rf_predictions)\n",
    "rf_r2 = r2_score(y_test, rf_predictions)\n",
    "\n",
    "print(f\"Random Forest MSE: {rf_mse}, R2: {rf_r2}, Time: {rf_time:.2f} seconds\")\n",
    "print(\"Shillo S.O. IKBO-25-21\")\n"
   ],
   "id": "8c6ed174aa7457f",
   "outputs": [
    {
     "name": "stdout",
     "output_type": "stream",
     "text": [
      "Training Random Forest...\n",
      "Random Forest MSE: 20942520.922619622, R2: 0.8651034329144947, Time: 0.28 seconds\n",
      "Shillo S.O. IKBO-25-21\n"
     ]
    }
   ],
   "execution_count": 29
  },
  {
   "metadata": {
    "ExecuteTime": {
     "end_time": "2024-11-19T06:36:14.862375Z",
     "start_time": "2024-11-19T06:36:14.772063Z"
    }
   },
   "cell_type": "code",
   "source": [
    "# Реализация бустинга (XGBoost)\n",
    "print(\"Training XGBoost...\")\n",
    "start_time = time.time()\n",
    "xgb_model = XGBRegressor(n_estimators=100, random_state=42)\n",
    "xgb_model.fit(X_train, y_train)\n",
    "xgb_time = time.time() - start_time\n",
    "\n",
    "# Предсказания и оценка модели\n",
    "xgb_predictions = xgb_model.predict(X_test)\n",
    "xgb_mse = mean_squared_error(y_test, xgb_predictions)\n",
    "xgb_r2 = r2_score(y_test, xgb_predictions)\n",
    "\n",
    "print(f\"XGBoost MSE: {xgb_mse}, R2: {xgb_r2}, Time: {xgb_time:.2f} seconds\")\n",
    "print(\"Shillo S.O. IKBO-25-21\")\n"
   ],
   "id": "ad74fc838ef71b80",
   "outputs": [
    {
     "name": "stdout",
     "output_type": "stream",
     "text": [
      "Training XGBoost...\n",
      "XGBoost MSE: 23434704.61742758, R2: 0.8490505887407566, Time: 0.08 seconds\n",
      "Shillo S.O. IKBO-25-21\n"
     ]
    }
   ],
   "execution_count": 30
  },
  {
   "metadata": {
    "ExecuteTime": {
     "end_time": "2024-11-19T06:36:14.870733Z",
     "start_time": "2024-11-19T06:36:14.863380Z"
    }
   },
   "cell_type": "code",
   "source": [
    "# Сравнение результатов\n",
    "results = pd.DataFrame({\n",
    "    'Model': ['Random Forest', 'XGBoost'],\n",
    "    'MSE': [rf_mse, xgb_mse],\n",
    "    'R2': [rf_r2, xgb_r2],\n",
    "    'Time (seconds)': [rf_time, xgb_time]\n",
    "})\n",
    "\n",
    "print(\"\\nComparison of Models:\")\n",
    "print(results)\n",
    "print(\"Shillo S.O. IKBO-25-21\")\n"
   ],
   "id": "953ed38f32cd81da",
   "outputs": [
    {
     "name": "stdout",
     "output_type": "stream",
     "text": [
      "\n",
      "Comparison of Models:\n",
      "           Model           MSE        R2  Time (seconds)\n",
      "0  Random Forest  2.094252e+07  0.865103        0.282307\n",
      "1        XGBoost  2.343470e+07  0.849051        0.079378\n",
      "Shillo S.O. IKBO-25-21\n"
     ]
    }
   ],
   "execution_count": 31
  }
 ],
 "metadata": {
  "kernelspec": {
   "display_name": "Python 3",
   "language": "python",
   "name": "python3"
  },
  "language_info": {
   "codemirror_mode": {
    "name": "ipython",
    "version": 2
   },
   "file_extension": ".py",
   "mimetype": "text/x-python",
   "name": "python",
   "nbconvert_exporter": "python",
   "pygments_lexer": "ipython2",
   "version": "2.7.6"
  }
 },
 "nbformat": 4,
 "nbformat_minor": 5
}
