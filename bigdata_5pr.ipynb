{
 "cells": [
  {
   "cell_type": "code",
   "id": "initial_id",
   "metadata": {
    "collapsed": true,
    "ExecuteTime": {
     "end_time": "2024-10-29T10:27:16.424783Z",
     "start_time": "2024-10-29T10:27:16.420562Z"
    }
   },
   "source": [
    "import pandas as pd\n",
    "from sklearn.model_selection import train_test_split\n",
    "from sklearn.preprocessing import StandardScaler\n",
    "from sklearn.linear_model import LogisticRegression\n",
    "from sklearn.svm import SVC\n",
    "from sklearn.neighbors import KNeighborsClassifier\n",
    "from sklearn.metrics import classification_report, confusion_matrix\n",
    "import matplotlib.pyplot as plt"
   ],
   "outputs": [],
   "execution_count": 21
  },
  {
   "metadata": {
    "ExecuteTime": {
     "end_time": "2024-10-29T10:27:16.457996Z",
     "start_time": "2024-10-29T10:27:16.426296Z"
    }
   },
   "cell_type": "code",
   "source": [
    "# Загрузка данных\n",
    "housing_data = pd.read_csv('data/Housing.csv')\n",
    "\n",
    "# Создание целевой переменной 'price_level' на основе медианы 'price'\n",
    "housing_data['price_level'] = ['high' if price >= housing_data['price'].median() else 'low' for price in housing_data['price']]\n",
    "\n",
    "# Кодирование категориальных признаков\n",
    "housing_data_encoded = pd.get_dummies(housing_data.drop(columns=['price']), drop_first=True)\n",
    "\n",
    "# Просмотр первых строк данных\n",
    "housing_data_encoded.head()"
   ],
   "id": "25c5f83efd83de65",
   "outputs": [
    {
     "data": {
      "text/plain": [
       "   area  bedrooms  bathrooms  stories  parking  mainroad_yes  guestroom_yes  \\\n",
       "0  7420         4          2        3        2          True          False   \n",
       "1  8960         4          4        4        3          True          False   \n",
       "2  9960         3          2        2        2          True          False   \n",
       "3  7500         4          2        2        3          True          False   \n",
       "4  7420         4          1        2        2          True           True   \n",
       "\n",
       "   basement_yes  hotwaterheating_yes  airconditioning_yes  prefarea_yes  \\\n",
       "0         False                False                 True          True   \n",
       "1         False                False                 True         False   \n",
       "2          True                False                False          True   \n",
       "3          True                False                 True          True   \n",
       "4          True                False                 True         False   \n",
       "\n",
       "   furnishingstatus_semi-furnished  furnishingstatus_unfurnished  \\\n",
       "0                            False                         False   \n",
       "1                            False                         False   \n",
       "2                             True                         False   \n",
       "3                            False                         False   \n",
       "4                            False                         False   \n",
       "\n",
       "   price_level_low  \n",
       "0            False  \n",
       "1            False  \n",
       "2            False  \n",
       "3            False  \n",
       "4            False  "
      ],
      "text/html": [
       "<div>\n",
       "<style scoped>\n",
       "    .dataframe tbody tr th:only-of-type {\n",
       "        vertical-align: middle;\n",
       "    }\n",
       "\n",
       "    .dataframe tbody tr th {\n",
       "        vertical-align: top;\n",
       "    }\n",
       "\n",
       "    .dataframe thead th {\n",
       "        text-align: right;\n",
       "    }\n",
       "</style>\n",
       "<table border=\"1\" class=\"dataframe\">\n",
       "  <thead>\n",
       "    <tr style=\"text-align: right;\">\n",
       "      <th></th>\n",
       "      <th>area</th>\n",
       "      <th>bedrooms</th>\n",
       "      <th>bathrooms</th>\n",
       "      <th>stories</th>\n",
       "      <th>parking</th>\n",
       "      <th>mainroad_yes</th>\n",
       "      <th>guestroom_yes</th>\n",
       "      <th>basement_yes</th>\n",
       "      <th>hotwaterheating_yes</th>\n",
       "      <th>airconditioning_yes</th>\n",
       "      <th>prefarea_yes</th>\n",
       "      <th>furnishingstatus_semi-furnished</th>\n",
       "      <th>furnishingstatus_unfurnished</th>\n",
       "      <th>price_level_low</th>\n",
       "    </tr>\n",
       "  </thead>\n",
       "  <tbody>\n",
       "    <tr>\n",
       "      <th>0</th>\n",
       "      <td>7420</td>\n",
       "      <td>4</td>\n",
       "      <td>2</td>\n",
       "      <td>3</td>\n",
       "      <td>2</td>\n",
       "      <td>True</td>\n",
       "      <td>False</td>\n",
       "      <td>False</td>\n",
       "      <td>False</td>\n",
       "      <td>True</td>\n",
       "      <td>True</td>\n",
       "      <td>False</td>\n",
       "      <td>False</td>\n",
       "      <td>False</td>\n",
       "    </tr>\n",
       "    <tr>\n",
       "      <th>1</th>\n",
       "      <td>8960</td>\n",
       "      <td>4</td>\n",
       "      <td>4</td>\n",
       "      <td>4</td>\n",
       "      <td>3</td>\n",
       "      <td>True</td>\n",
       "      <td>False</td>\n",
       "      <td>False</td>\n",
       "      <td>False</td>\n",
       "      <td>True</td>\n",
       "      <td>False</td>\n",
       "      <td>False</td>\n",
       "      <td>False</td>\n",
       "      <td>False</td>\n",
       "    </tr>\n",
       "    <tr>\n",
       "      <th>2</th>\n",
       "      <td>9960</td>\n",
       "      <td>3</td>\n",
       "      <td>2</td>\n",
       "      <td>2</td>\n",
       "      <td>2</td>\n",
       "      <td>True</td>\n",
       "      <td>False</td>\n",
       "      <td>True</td>\n",
       "      <td>False</td>\n",
       "      <td>False</td>\n",
       "      <td>True</td>\n",
       "      <td>True</td>\n",
       "      <td>False</td>\n",
       "      <td>False</td>\n",
       "    </tr>\n",
       "    <tr>\n",
       "      <th>3</th>\n",
       "      <td>7500</td>\n",
       "      <td>4</td>\n",
       "      <td>2</td>\n",
       "      <td>2</td>\n",
       "      <td>3</td>\n",
       "      <td>True</td>\n",
       "      <td>False</td>\n",
       "      <td>True</td>\n",
       "      <td>False</td>\n",
       "      <td>True</td>\n",
       "      <td>True</td>\n",
       "      <td>False</td>\n",
       "      <td>False</td>\n",
       "      <td>False</td>\n",
       "    </tr>\n",
       "    <tr>\n",
       "      <th>4</th>\n",
       "      <td>7420</td>\n",
       "      <td>4</td>\n",
       "      <td>1</td>\n",
       "      <td>2</td>\n",
       "      <td>2</td>\n",
       "      <td>True</td>\n",
       "      <td>True</td>\n",
       "      <td>True</td>\n",
       "      <td>False</td>\n",
       "      <td>True</td>\n",
       "      <td>False</td>\n",
       "      <td>False</td>\n",
       "      <td>False</td>\n",
       "      <td>False</td>\n",
       "    </tr>\n",
       "  </tbody>\n",
       "</table>\n",
       "</div>"
      ]
     },
     "execution_count": 22,
     "metadata": {},
     "output_type": "execute_result"
    }
   ],
   "execution_count": 22
  },
  {
   "metadata": {
    "ExecuteTime": {
     "end_time": "2024-10-29T10:27:16.629367Z",
     "start_time": "2024-10-29T10:27:16.459003Z"
    }
   },
   "cell_type": "code",
   "source": [
    "# Визуализация распределения классов\n",
    "plt.figure(figsize=(8, 5))\n",
    "housing_data['price_level'].value_counts().plot(kind='bar', color=['skyblue', 'salmon'])\n",
    "plt.title('Class Balance for Price Level')\n",
    "plt.xlabel('Price Level')\n",
    "plt.ylabel('Count')\n",
    "plt.xticks(rotation=0)\n",
    "plt.show()\n"
   ],
   "id": "b564b54b36308ddd",
   "outputs": [
    {
     "data": {
      "text/plain": [
       "<Figure size 800x500 with 1 Axes>"
      ],
      "image/png": "[encoded data removed]"
     },
     "metadata": {},
     "output_type": "display_data"
    }
   ],
   "execution_count": 23
  },
  {
   "metadata": {
    "ExecuteTime": {
     "end_time": "2024-10-29T10:27:16.637122Z",
     "start_time": "2024-10-29T10:27:16.630373Z"
    }
   },
   "cell_type": "code",
   "source": [
    "# Разделение данных на признаки (X) и целевую переменную (y)\n",
    "X = housing_data_encoded.drop(columns=['price_level_low'])\n",
    "y = housing_data_encoded['price_level_low']\n",
    "\n",
    "# Разделение на обучающую и тестовую выборки\n",
    "X_train, X_test, y_train, y_test = train_test_split(X, y, test_size=0.2, random_state=42)\n"
   ],
   "id": "6c8be8fa4a68eec5",
   "outputs": [],
   "execution_count": 24
  },
  {
   "metadata": {
    "ExecuteTime": {
     "end_time": "2024-10-29T10:27:16.647091Z",
     "start_time": "2024-10-29T10:27:16.639068Z"
    }
   },
   "cell_type": "code",
   "source": [
    "# Стандартизация данных\n",
    "scaler = StandardScaler()\n",
    "X_train = scaler.fit_transform(X_train)\n",
    "X_test = scaler.transform(X_test)\n"
   ],
   "id": "cdeef1ff1271addc",
   "outputs": [],
   "execution_count": 25
  },
  {
   "metadata": {
    "ExecuteTime": {
     "end_time": "2024-10-29T10:27:16.662821Z",
     "start_time": "2024-10-29T10:27:16.648102Z"
    }
   },
   "cell_type": "code",
   "source": [
    "log_model = LogisticRegression()\n",
    "log_model.fit(X_train, y_train)\n",
    "y_pred_log = log_model.predict(X_test)\n",
    "\n",
    "# Вывод метрик\n",
    "print(\"Logistic Regression Metrics:\")\n",
    "print(confusion_matrix(y_test, y_pred_log))\n",
    "print(classification_report(y_test, y_pred_log))\n"
   ],
   "id": "4c9a1cc69d5fd40e",
   "outputs": [
    {
     "name": "stdout",
     "output_type": "stream",
     "text": [
      "Logistic Regression Metrics:\n",
      "[[47 13]\n",
      " [ 3 46]]\n",
      "              precision    recall  f1-score   support\n",
      "\n",
      "       False       0.94      0.78      0.85        60\n",
      "        True       0.78      0.94      0.85        49\n",
      "\n",
      "    accuracy                           0.85       109\n",
      "   macro avg       0.86      0.86      0.85       109\n",
      "weighted avg       0.87      0.85      0.85       109\n",
      "\n"
     ]
    }
   ],
   "execution_count": 26
  },
  {
   "metadata": {
    "ExecuteTime": {
     "end_time": "2024-10-29T10:27:16.685946Z",
     "start_time": "2024-10-29T10:27:16.663827Z"
    }
   },
   "cell_type": "code",
   "source": [
    "svm_model = SVC()\n",
    "svm_model.fit(X_train, y_train)\n",
    "y_pred_svm = svm_model.predict(X_test)\n",
    "\n",
    "# Вывод метрик\n",
    "print(\"\\nSVM Metrics:\")\n",
    "print(confusion_matrix(y_test, y_pred_svm))\n",
    "print(classification_report(y_test, y_pred_svm))\n"
   ],
   "id": "8474703798942a24",
   "outputs": [
    {
     "name": "stdout",
     "output_type": "stream",
     "text": [
      "\n",
      "SVM Metrics:\n",
      "[[44 16]\n",
      " [ 4 45]]\n",
      "              precision    recall  f1-score   support\n",
      "\n",
      "       False       0.92      0.73      0.81        60\n",
      "        True       0.74      0.92      0.82        49\n",
      "\n",
      "    accuracy                           0.82       109\n",
      "   macro avg       0.83      0.83      0.82       109\n",
      "weighted avg       0.84      0.82      0.82       109\n",
      "\n"
     ]
    }
   ],
   "execution_count": 27
  },
  {
   "metadata": {
    "ExecuteTime": {
     "end_time": "2024-10-29T10:27:16.711876Z",
     "start_time": "2024-10-29T10:27:16.687466Z"
    }
   },
   "cell_type": "code",
   "source": [
    "knn_model = KNeighborsClassifier(n_neighbors=5)\n",
    "knn_model.fit(X_train, y_train)\n",
    "y_pred_knn = knn_model.predict(X_test)\n",
    "\n",
    "# Вывод метрик\n",
    "print(\"\\nKNN Metrics:\")\n",
    "print(confusion_matrix(y_test, y_pred_knn))\n",
    "print(classification_report(y_test, y_pred_knn))"
   ],
   "id": "26d901d8786647e1",
   "outputs": [
    {
     "name": "stdout",
     "output_type": "stream",
     "text": [
      "\n",
      "KNN Metrics:\n",
      "[[42 18]\n",
      " [ 6 43]]\n",
      "              precision    recall  f1-score   support\n",
      "\n",
      "       False       0.88      0.70      0.78        60\n",
      "        True       0.70      0.88      0.78        49\n",
      "\n",
      "    accuracy                           0.78       109\n",
      "   macro avg       0.79      0.79      0.78       109\n",
      "weighted avg       0.80      0.78      0.78       109\n",
      "\n"
     ]
    }
   ],
   "execution_count": 28
  }
 ],
 "metadata": {
  "kernelspec": {
   "display_name": "Python 3",
   "language": "python",
   "name": "python3"
  },
  "language_info": {
   "codemirror_mode": {
    "name": "ipython",
    "version": 2
   },
   "file_extension": ".py",
   "mimetype": "text/x-python",
   "name": "python",
   "nbconvert_exporter": "python",
   "pygments_lexer": "ipython2",
   "version": "2.7.6"
  }
 },
 "nbformat": 4,
 "nbformat_minor": 5
}
