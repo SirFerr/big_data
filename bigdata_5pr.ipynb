{
 "cells": [
  {
   "cell_type": "code",
   "id": "initial_id",
   "metadata": {
    "collapsed": true,
    "ExecuteTime": {
     "end_time": "2024-11-04T13:22:36.847854Z",
     "start_time": "2024-11-04T13:22:36.835855Z"
    }
   },
   "source": [
    "import pandas as pd\n",
    "import matplotlib.pyplot as plt\n",
    "from sklearn.model_selection import train_test_split\n",
    "from sklearn.preprocessing import StandardScaler\n",
    "from sklearn.metrics import confusion_matrix, classification_report\n",
    "from sklearn.linear_model import LogisticRegression\n",
    "from sklearn.svm import SVC\n",
    "from sklearn.neighbors import KNeighborsClassifier\n",
    "\n",
    "data = pd.read_csv('data/Housing.csv')\n",
    "\n",
    "data.head()\n",
    "\n",
    "data = data.dropna()\n",
    "data = pd.get_dummies(data, drop_first=True)\n",
    "\n",
    "X = data.iloc[:, :-1].values\n",
    "y = data.iloc[:, -1].values\n",
    "\n",
    "print(\"Shillo S.O. IKBO-25-21\")\n"
   ],
   "outputs": [
    {
     "name": "stdout",
     "output_type": "stream",
     "text": [
      "Shillo S.O. IKBO-25-21\n"
     ]
    }
   ],
   "execution_count": 22
  },
  {
   "metadata": {
    "ExecuteTime": {
     "end_time": "2024-11-04T13:22:37.006912Z",
     "start_time": "2024-11-04T13:22:36.849861Z"
    }
   },
   "cell_type": "code",
   "source": [
    "plt.hist(y.astype(int))\n",
    "plt.title('Class Balance')\n",
    "plt.xlabel('Class')\n",
    "plt.ylabel('Frequency')\n",
    "plt.show()\n",
    "\n",
    "print(\"Shillo S.O. IKBO-25-21\")"
   ],
   "id": "25c5f83efd83de65",
   "outputs": [
    {
     "data": {
      "text/plain": [
       "<Figure size 640x480 with 1 Axes>"
      ],
      "image/png": "[encoded data removed]"
     },
     "metadata": {},
     "output_type": "display_data"
    },
    {
     "name": "stdout",
     "output_type": "stream",
     "text": [
      "Shillo S.O. IKBO-25-21\n"
     ]
    }
   ],
   "execution_count": 23
  },
  {
   "metadata": {
    "ExecuteTime": {
     "end_time": "2024-11-04T13:22:37.013537Z",
     "start_time": "2024-11-04T13:22:37.007918Z"
    }
   },
   "cell_type": "code",
   "source": [
    "X_train, X_test, y_train, y_test = train_test_split(X, y, test_size=0.2, random_state=42)\n",
    "\n",
    "scaler = StandardScaler()\n",
    "X_train = scaler.fit_transform(X_train)\n",
    "X_test = scaler.transform(X_test)\n",
    "\n",
    "print(\"Shillo S.O. IKBO-25-21\")"
   ],
   "id": "6c8be8fa4a68eec5",
   "outputs": [
    {
     "name": "stdout",
     "output_type": "stream",
     "text": [
      "Shillo S.O. IKBO-25-21\n"
     ]
    }
   ],
   "execution_count": 24
  },
  {
   "metadata": {
    "ExecuteTime": {
     "end_time": "2024-11-04T13:22:37.038802Z",
     "start_time": "2024-11-04T13:22:37.014543Z"
    }
   },
   "cell_type": "code",
   "source": [
    "model_logistic = LogisticRegression()\n",
    "model_logistic.fit(X_train, y_train)\n",
    "y_pred_logistic = model_logistic.predict(X_test)\n",
    "\n",
    "cm_logistic = confusion_matrix(y_test, y_pred_logistic)\n",
    "print(\"Confusion Matrix for Logistic Regression:\\n\", cm_logistic)\n",
    "\n",
    "model_svm = SVC()\n",
    "model_svm.fit(X_train, y_train)\n",
    "y_pred_svm = model_svm.predict(X_test)\n",
    "\n",
    "cm_svm = confusion_matrix(y_test, y_pred_svm)\n",
    "print(\"Confusion Matrix for SVM:\\n\", cm_svm)\n",
    "\n",
    "model_knn = KNeighborsClassifier(n_neighbors=5)\n",
    "model_knn.fit(X_train, y_train)\n",
    "y_pred_knn = model_knn.predict(X_test)\n",
    "\n",
    "cm_knn = confusion_matrix(y_test, y_pred_knn)\n",
    "print(\"Confusion Matrix for KNN:\\n\", cm_knn)\n",
    "\n",
    "print(\"Shillo S.O. IKBO-25-21\")\n"
   ],
   "id": "cdeef1ff1271addc",
   "outputs": [
    {
     "name": "stdout",
     "output_type": "stream",
     "text": [
      "Confusion Matrix for Logistic Regression:\n",
      " [[58 10]\n",
      " [12 29]]\n",
      "Confusion Matrix for SVM:\n",
      " [[58 10]\n",
      " [16 25]]\n",
      "Confusion Matrix for KNN:\n",
      " [[58 10]\n",
      " [12 29]]\n",
      "Shillo S.O. IKBO-25-21\n"
     ]
    }
   ],
   "execution_count": 25
  },
  {
   "metadata": {
    "ExecuteTime": {
     "end_time": "2024-11-04T13:22:37.058594Z",
     "start_time": "2024-11-04T13:22:37.040375Z"
    }
   },
   "cell_type": "code",
   "source": [
    "print(\"Logistic Regression Report:\\n\", classification_report(y_test, y_pred_logistic))\n",
    "print(\"SVM Report:\\n\", classification_report(y_test, y_pred_svm))\n",
    "print(\"KNN Report:\\n\", classification_report(y_test, y_pred_knn))\n",
    "\n",
    "print(\"Shillo S.O. IKBO-25-21\")"
   ],
   "id": "98e4128ab8f46881",
   "outputs": [
    {
     "name": "stdout",
     "output_type": "stream",
     "text": [
      "Logistic Regression Report:\n",
      "               precision    recall  f1-score   support\n",
      "\n",
      "       False       0.83      0.85      0.84        68\n",
      "        True       0.74      0.71      0.72        41\n",
      "\n",
      "    accuracy                           0.80       109\n",
      "   macro avg       0.79      0.78      0.78       109\n",
      "weighted avg       0.80      0.80      0.80       109\n",
      "\n",
      "SVM Report:\n",
      "               precision    recall  f1-score   support\n",
      "\n",
      "       False       0.78      0.85      0.82        68\n",
      "        True       0.71      0.61      0.66        41\n",
      "\n",
      "    accuracy                           0.76       109\n",
      "   macro avg       0.75      0.73      0.74       109\n",
      "weighted avg       0.76      0.76      0.76       109\n",
      "\n",
      "KNN Report:\n",
      "               precision    recall  f1-score   support\n",
      "\n",
      "       False       0.83      0.85      0.84        68\n",
      "        True       0.74      0.71      0.72        41\n",
      "\n",
      "    accuracy                           0.80       109\n",
      "   macro avg       0.79      0.78      0.78       109\n",
      "weighted avg       0.80      0.80      0.80       109\n",
      "\n",
      "Shillo S.O. IKBO-25-21\n"
     ]
    }
   ],
   "execution_count": 26
  }
 ],
 "metadata": {
  "kernelspec": {
   "display_name": "Python 3",
   "language": "python",
   "name": "python3"
  },
  "language_info": {
   "codemirror_mode": {
    "name": "ipython",
    "version": 2
   },
   "file_extension": ".py",
   "mimetype": "text/x-python",
   "name": "python",
   "nbconvert_exporter": "python",
   "pygments_lexer": "ipython2",
   "version": "2.7.6"
  }
 },
 "nbformat": 4,
 "nbformat_minor": 5
}
